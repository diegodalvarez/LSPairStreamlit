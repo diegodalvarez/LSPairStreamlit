{
 "cells": [
  {
   "cell_type": "markdown",
   "id": "18a35f88-e3dd-49fc-9694-72359f61f04a",
   "metadata": {},
   "source": [
    "# Test File for LSPair"
   ]
  },
  {
   "cell_type": "markdown",
   "id": "871e54d8-0d9a-4f13-b11e-489434cdbad7",
   "metadata": {
    "jp-MarkdownHeadingCollapsed": true,
    "tags": []
   },
   "source": [
    "## Packages"
   ]
  },
  {
   "cell_type": "code",
   "execution_count": 1,
   "id": "f94b9d67-05c6-4cbc-b9c9-54535b7245f6",
   "metadata": {},
   "outputs": [],
   "source": [
    "import sys\n",
    "import matplotlib\n",
    "import datetime as dt\n",
    "import yfinance as yf\n",
    "\n",
    "from LSPair import *"
   ]
  },
  {
   "cell_type": "markdown",
   "id": "66419593-8941-43e2-a00c-b12ee1d12a07",
   "metadata": {
    "jp-MarkdownHeadingCollapsed": true,
    "tags": []
   },
   "source": [
    "## Let's get some sample data"
   ]
  },
  {
   "cell_type": "code",
   "execution_count": 2,
   "id": "119ff7ad-f0a8-41ae-92b3-b2ac2c326848",
   "metadata": {},
   "outputs": [],
   "source": [
    "try:\n",
    "\n",
    "    df = pd.read_parquet(\n",
    "        path = \"agency_df.parquet\", \n",
    "        engine = \"pyarrow\")\n",
    "\n",
    "    end_date = dt.date(year = 2023, month = 4, day = 5)\n",
    "    start_date = dt.date(year = end_date.year - 6, month = 1, day = 1)\n",
    "  \n",
    "except:\n",
    "\n",
    "    tickers = [\"CMBS\", \"VMBS\", \"MBB\"]\n",
    "    end_date = dt.date(year = 2023, month = 4, day = 5)\n",
    "    start_date = dt.date(year = end_date.year - 6, month = 1, day = 1)\n",
    "\n",
    "    df = (yf.download(\n",
    "        tickers = tickers,\n",
    "        start = start_date,\n",
    "        end = end_date).\n",
    "        reset_index().\n",
    "        melt(id_vars = \"Date\").\n",
    "        rename(columns = {\n",
    "            \"variable_0\": \"ticker_type\", \n",
    "            \"variable_1\": \"ticker\"}))\n",
    "\n",
    "    df.to_parquet(\n",
    "      path = \"agency_df.parquet\",\n",
    "      engine = \"pyarrow\")\n",
    "  \n",
    "\n",
    "df = (df.query(\n",
    "    \"ticker_type == 'Adj Close'\").\n",
    "    drop(columns = [\"ticker_type\"]).\n",
    "    pivot(index = \"Date\", columns = \"ticker\", values = \"value\").\n",
    "    pct_change().\n",
    "    dropna())"
   ]
  },
  {
   "cell_type": "markdown",
   "id": "607d6786-fe04-4577-92c6-e633f41992dd",
   "metadata": {
    "tags": []
   },
   "source": [
    "## Initialization Tests"
   ]
  },
  {
   "cell_type": "markdown",
   "id": "96248bc7-bb32-4b17-883e-383a1d381070",
   "metadata": {},
   "source": [
    "Load data in LSPair"
   ]
  },
  {
   "cell_type": "code",
   "execution_count": 3,
   "id": "ac4f708f-683f-4fd2-80b1-d9f8879a603c",
   "metadata": {},
   "outputs": [],
   "source": [
    "ls_pair = LSPair(\n",
    "    long_position = df.VMBS,\n",
    "    short_position = df.CMBS,\n",
    "    benchmark = df.MBB)"
   ]
  },
  {
   "cell_type": "markdown",
   "id": "ec82757b-0c06-4294-a35f-ca7d4866734f",
   "metadata": {
    "tags": []
   },
   "source": [
    "### Check regression Stats"
   ]
  },
  {
   "cell_type": "code",
   "execution_count": 4,
   "id": "d9ebdce9-cd07-46aa-a152-af52aaa7cd5a",
   "metadata": {},
   "outputs": [],
   "source": [
    "def try_fail(test, name):\n",
    "    try:\n",
    "        test\n",
    "        print(\"[INFO] Successfully Completed {} Test\".format(name))\n",
    "    except:\n",
    "        print(\"[ALERT] Failed to Complete {} Test\".format(name))\n",
    "        sys.quit()\n",
    "        \n",
    "def try_stat_regression_test():\n",
    "    \n",
    "    try_fail(ls_pair.in_sample_long_lm_res, \"In-Sample Long Regression\")\n",
    "    try_fail(ls_pair.out_sample_long_lm_res, \"Out-Sample Long Regression\")\n",
    "    try_fail(ls_pair.full_sample_long_lm_res, \"Full-Sample Long Regression\")\n",
    "    try_fail(ls_pair.in_sample_short_lm_res, \"In-Sample Short Regression\")\n",
    "    try_fail(ls_pair.out_sample_short_lm_res, \"Out-Sample Short Regression\")\n",
    "    try_fail(ls_pair.full_sample_short_lm_res, \"Full-Sample Short Regression\")\n",
    "    print(\"[INFO] Completed All Regression Sample Tests\")\n",
    "    \n",
    "#try_stat_regression_test()"
   ]
  },
  {
   "cell_type": "markdown",
   "id": "70ebe391-fde8-4695-9958-eff5985c7d3e",
   "metadata": {
    "tags": []
   },
   "source": [
    "## Plotting Test"
   ]
  },
  {
   "cell_type": "code",
   "execution_count": 5,
   "id": "c8397b16-904a-481f-92d9-532af2f4b729",
   "metadata": {},
   "outputs": [
    {
     "data": {
      "text/plain": [
       "'\\ntry_fail(ls_pair.plot_regress(), \"In-Sample Regression\")\\ntry_fail(ls_pair.plot_out_regress(), \"Out-of-Sample Regression\")\\ntry_fail(ls_pair.plot_full_regress(), \"Ful-Sample Regression\")\\n'"
      ]
     },
     "execution_count": 5,
     "metadata": {},
     "output_type": "execute_result"
    }
   ],
   "source": [
    "'''\n",
    "try_fail(ls_pair.plot_regress(), \"In-Sample Regression\")\n",
    "try_fail(ls_pair.plot_out_regress(), \"Out-of-Sample Regression\")\n",
    "try_fail(ls_pair.plot_full_regress(), \"Ful-Sample Regression\")\n",
    "'''"
   ]
  },
  {
   "cell_type": "code",
   "execution_count": 6,
   "id": "100543d8-41f1-45d8-b7a0-98dd4381f992",
   "metadata": {},
   "outputs": [
    {
     "data": {
      "text/plain": [
       "'\\ntry_fail(ls_pair.plot_cum(), \"Cumualative Returns with fill\")\\ntry_fail(ls_pair.plot_out_sample_cum(), \"Cumualative Returns with fill\")\\ntry_fail(ls_pair.plot_full_sample_cum(), \"Cumualative Returns with fill\")\\n'"
      ]
     },
     "execution_count": 6,
     "metadata": {},
     "output_type": "execute_result"
    }
   ],
   "source": [
    "'''\n",
    "try_fail(ls_pair.plot_cum(), \"Cumualative Returns with fill\")\n",
    "try_fail(ls_pair.plot_out_sample_cum(), \"Cumualative Returns with fill\")\n",
    "try_fail(ls_pair.plot_full_sample_cum(), \"Cumualative Returns with fill\")\n",
    "'''"
   ]
  },
  {
   "cell_type": "code",
   "execution_count": 7,
   "id": "8c101e44-3ebc-4dcc-ad28-872e826b4d50",
   "metadata": {},
   "outputs": [
    {
     "data": {
      "text/plain": [
       "'\\ntry_fail(ls_pair.plot_cum(fill = False), \"In-Sample Cumualative Returns with fill\")\\ntry_fail(ls_pair.plot_out_sample_cum(fill = False), \"Out-of-Sample Cumualative Returns with fill\")\\ntry_fail(ls_pair.plot_full_sample_cum(fill = False), \"Full-Sample Cumualative Returns with fill\")\\n'"
      ]
     },
     "execution_count": 7,
     "metadata": {},
     "output_type": "execute_result"
    }
   ],
   "source": [
    "'''\n",
    "try_fail(ls_pair.plot_cum(fill = False), \"In-Sample Cumualative Returns with fill\")\n",
    "try_fail(ls_pair.plot_out_sample_cum(fill = False), \"Out-of-Sample Cumualative Returns with fill\")\n",
    "try_fail(ls_pair.plot_full_sample_cum(fill = False), \"Full-Sample Cumualative Returns with fill\")\n",
    "'''"
   ]
  },
  {
   "cell_type": "markdown",
   "id": "1c90b5bf-6ad2-4f92-a22f-ef13d6caed27",
   "metadata": {
    "tags": []
   },
   "source": [
    "## Even Rebalance"
   ]
  },
  {
   "cell_type": "code",
   "execution_count": 8,
   "id": "00675fb9-e059-446d-840d-c0e779d7581e",
   "metadata": {},
   "outputs": [
    {
     "data": {
      "text/plain": [
       "'\\ntry_fail(ls_pair.generate_even_rebal_risk_premia(plot = True), \"Even Rebalance plot with fill\")\\ntry_fail(ls_pair.generate_even_rebal_risk_premia(plot = True, fill = False), \"Even Rebalance plot without fill\")\\n'"
      ]
     },
     "execution_count": 8,
     "metadata": {},
     "output_type": "execute_result"
    }
   ],
   "source": [
    "'''\n",
    "try_fail(ls_pair.generate_even_rebal_risk_premia(plot = True), \"Even Rebalance plot with fill\")\n",
    "try_fail(ls_pair.generate_even_rebal_risk_premia(plot = True, fill = False), \"Even Rebalance plot without fill\")\n",
    "'''"
   ]
  },
  {
   "cell_type": "markdown",
   "id": "2907a181-f964-4ffe-87cb-f91c04770c69",
   "metadata": {
    "tags": []
   },
   "source": [
    "## Rolling OLS"
   ]
  },
  {
   "cell_type": "code",
   "execution_count": 9,
   "id": "c5635334-73c1-42d3-91eb-9c3df31dbd4c",
   "metadata": {},
   "outputs": [],
   "source": [
    "#try_fail(ls_pair.rolling_ols(), \"Rolling OLS\")"
   ]
  },
  {
   "cell_type": "code",
   "execution_count": 10,
   "id": "f16cb6e3-0862-4d26-9fa8-f4e0cd1b49b8",
   "metadata": {},
   "outputs": [
    {
     "data": {
      "text/html": [
       "<div>\n",
       "<style scoped>\n",
       "    .dataframe tbody tr th:only-of-type {\n",
       "        vertical-align: middle;\n",
       "    }\n",
       "\n",
       "    .dataframe tbody tr th {\n",
       "        vertical-align: top;\n",
       "    }\n",
       "\n",
       "    .dataframe thead th {\n",
       "        text-align: right;\n",
       "    }\n",
       "</style>\n",
       "<table border=\"1\" class=\"dataframe\">\n",
       "  <thead>\n",
       "    <tr style=\"text-align: right;\">\n",
       "      <th></th>\n",
       "      <th>Date</th>\n",
       "      <th>parameter</th>\n",
       "      <th>value</th>\n",
       "      <th>variable</th>\n",
       "      <th>sample_group</th>\n",
       "      <th>position</th>\n",
       "      <th>ticker</th>\n",
       "      <th>benchmark_ticker</th>\n",
       "    </tr>\n",
       "  </thead>\n",
       "  <tbody>\n",
       "    <tr>\n",
       "      <th>0</th>\n",
       "      <td>2017-02-15</td>\n",
       "      <td>beta</td>\n",
       "      <td>0.000031</td>\n",
       "      <td>value</td>\n",
       "      <td>in_sample</td>\n",
       "      <td>long</td>\n",
       "      <td>VMBS</td>\n",
       "      <td>MBB</td>\n",
       "    </tr>\n",
       "    <tr>\n",
       "      <th>1</th>\n",
       "      <td>2017-02-16</td>\n",
       "      <td>beta</td>\n",
       "      <td>0.000030</td>\n",
       "      <td>value</td>\n",
       "      <td>in_sample</td>\n",
       "      <td>long</td>\n",
       "      <td>VMBS</td>\n",
       "      <td>MBB</td>\n",
       "    </tr>\n",
       "    <tr>\n",
       "      <th>2</th>\n",
       "      <td>2017-02-17</td>\n",
       "      <td>beta</td>\n",
       "      <td>-0.000064</td>\n",
       "      <td>value</td>\n",
       "      <td>in_sample</td>\n",
       "      <td>long</td>\n",
       "      <td>VMBS</td>\n",
       "      <td>MBB</td>\n",
       "    </tr>\n",
       "    <tr>\n",
       "      <th>3</th>\n",
       "      <td>2017-02-21</td>\n",
       "      <td>beta</td>\n",
       "      <td>-0.000073</td>\n",
       "      <td>value</td>\n",
       "      <td>in_sample</td>\n",
       "      <td>long</td>\n",
       "      <td>VMBS</td>\n",
       "      <td>MBB</td>\n",
       "    </tr>\n",
       "    <tr>\n",
       "      <th>4</th>\n",
       "      <td>2017-02-22</td>\n",
       "      <td>beta</td>\n",
       "      <td>-0.000042</td>\n",
       "      <td>value</td>\n",
       "      <td>in_sample</td>\n",
       "      <td>long</td>\n",
       "      <td>VMBS</td>\n",
       "      <td>MBB</td>\n",
       "    </tr>\n",
       "    <tr>\n",
       "      <th>...</th>\n",
       "      <td>...</td>\n",
       "      <td>...</td>\n",
       "      <td>...</td>\n",
       "      <td>...</td>\n",
       "      <td>...</td>\n",
       "      <td>...</td>\n",
       "      <td>...</td>\n",
       "      <td>...</td>\n",
       "    </tr>\n",
       "    <tr>\n",
       "      <th>6171</th>\n",
       "      <td>2023-03-29</td>\n",
       "      <td>benchmark</td>\n",
       "      <td>0.998059</td>\n",
       "      <td>upper_0.975_conf</td>\n",
       "      <td>full_sample</td>\n",
       "      <td>short</td>\n",
       "      <td>CMBS</td>\n",
       "      <td>MBB</td>\n",
       "    </tr>\n",
       "    <tr>\n",
       "      <th>6172</th>\n",
       "      <td>2023-03-30</td>\n",
       "      <td>benchmark</td>\n",
       "      <td>0.998732</td>\n",
       "      <td>upper_0.975_conf</td>\n",
       "      <td>full_sample</td>\n",
       "      <td>short</td>\n",
       "      <td>CMBS</td>\n",
       "      <td>MBB</td>\n",
       "    </tr>\n",
       "    <tr>\n",
       "      <th>6173</th>\n",
       "      <td>2023-03-31</td>\n",
       "      <td>benchmark</td>\n",
       "      <td>1.010071</td>\n",
       "      <td>upper_0.975_conf</td>\n",
       "      <td>full_sample</td>\n",
       "      <td>short</td>\n",
       "      <td>CMBS</td>\n",
       "      <td>MBB</td>\n",
       "    </tr>\n",
       "    <tr>\n",
       "      <th>6174</th>\n",
       "      <td>2023-04-03</td>\n",
       "      <td>benchmark</td>\n",
       "      <td>1.015248</td>\n",
       "      <td>upper_0.975_conf</td>\n",
       "      <td>full_sample</td>\n",
       "      <td>short</td>\n",
       "      <td>CMBS</td>\n",
       "      <td>MBB</td>\n",
       "    </tr>\n",
       "    <tr>\n",
       "      <th>6175</th>\n",
       "      <td>2023-04-04</td>\n",
       "      <td>benchmark</td>\n",
       "      <td>1.047453</td>\n",
       "      <td>upper_0.975_conf</td>\n",
       "      <td>full_sample</td>\n",
       "      <td>short</td>\n",
       "      <td>CMBS</td>\n",
       "      <td>MBB</td>\n",
       "    </tr>\n",
       "  </tbody>\n",
       "</table>\n",
       "<p>36708 rows × 8 columns</p>\n",
       "</div>"
      ],
      "text/plain": [
       "           Date  parameter     value          variable sample_group position  \\\n",
       "0    2017-02-15       beta  0.000031             value    in_sample     long   \n",
       "1    2017-02-16       beta  0.000030             value    in_sample     long   \n",
       "2    2017-02-17       beta -0.000064             value    in_sample     long   \n",
       "3    2017-02-21       beta -0.000073             value    in_sample     long   \n",
       "4    2017-02-22       beta -0.000042             value    in_sample     long   \n",
       "...         ...        ...       ...               ...          ...      ...   \n",
       "6171 2023-03-29  benchmark  0.998059  upper_0.975_conf  full_sample    short   \n",
       "6172 2023-03-30  benchmark  0.998732  upper_0.975_conf  full_sample    short   \n",
       "6173 2023-03-31  benchmark  1.010071  upper_0.975_conf  full_sample    short   \n",
       "6174 2023-04-03  benchmark  1.015248  upper_0.975_conf  full_sample    short   \n",
       "6175 2023-04-04  benchmark  1.047453  upper_0.975_conf  full_sample    short   \n",
       "\n",
       "     ticker benchmark_ticker  \n",
       "0      VMBS              MBB  \n",
       "1      VMBS              MBB  \n",
       "2      VMBS              MBB  \n",
       "3      VMBS              MBB  \n",
       "4      VMBS              MBB  \n",
       "...     ...              ...  \n",
       "6171   CMBS              MBB  \n",
       "6172   CMBS              MBB  \n",
       "6173   CMBS              MBB  \n",
       "6174   CMBS              MBB  \n",
       "6175   CMBS              MBB  \n",
       "\n",
       "[36708 rows x 8 columns]"
      ]
     },
     "metadata": {},
     "output_type": "display_data"
    },
    {
     "data": {
      "text/html": [
       "<div>\n",
       "<style scoped>\n",
       "    .dataframe tbody tr th:only-of-type {\n",
       "        vertical-align: middle;\n",
       "    }\n",
       "\n",
       "    .dataframe tbody tr th {\n",
       "        vertical-align: top;\n",
       "    }\n",
       "\n",
       "    .dataframe thead th {\n",
       "        text-align: right;\n",
       "    }\n",
       "</style>\n",
       "<table border=\"1\" class=\"dataframe\">\n",
       "  <thead>\n",
       "    <tr style=\"text-align: right;\">\n",
       "      <th></th>\n",
       "      <th>Date</th>\n",
       "      <th>parameter</th>\n",
       "      <th>value</th>\n",
       "      <th>variable</th>\n",
       "    </tr>\n",
       "  </thead>\n",
       "  <tbody>\n",
       "    <tr>\n",
       "      <th>0</th>\n",
       "      <td>2017-02-15</td>\n",
       "      <td>alpha</td>\n",
       "      <td>-0.000298</td>\n",
       "      <td>lower_0.025_conf</td>\n",
       "    </tr>\n",
       "    <tr>\n",
       "      <th>1</th>\n",
       "      <td>2017-02-16</td>\n",
       "      <td>alpha</td>\n",
       "      <td>-0.000298</td>\n",
       "      <td>lower_0.025_conf</td>\n",
       "    </tr>\n",
       "    <tr>\n",
       "      <th>2</th>\n",
       "      <td>2017-02-17</td>\n",
       "      <td>alpha</td>\n",
       "      <td>-0.000355</td>\n",
       "      <td>lower_0.025_conf</td>\n",
       "    </tr>\n",
       "    <tr>\n",
       "      <th>3</th>\n",
       "      <td>2017-02-21</td>\n",
       "      <td>alpha</td>\n",
       "      <td>-0.000365</td>\n",
       "      <td>lower_0.025_conf</td>\n",
       "    </tr>\n",
       "    <tr>\n",
       "      <th>4</th>\n",
       "      <td>2017-02-22</td>\n",
       "      <td>alpha</td>\n",
       "      <td>-0.000340</td>\n",
       "      <td>lower_0.025_conf</td>\n",
       "    </tr>\n",
       "    <tr>\n",
       "      <th>...</th>\n",
       "      <td>...</td>\n",
       "      <td>...</td>\n",
       "      <td>...</td>\n",
       "      <td>...</td>\n",
       "    </tr>\n",
       "    <tr>\n",
       "      <th>2139</th>\n",
       "      <td>2021-05-13</td>\n",
       "      <td>alpha</td>\n",
       "      <td>0.000188</td>\n",
       "      <td>upper_0.975_conf</td>\n",
       "    </tr>\n",
       "    <tr>\n",
       "      <th>2140</th>\n",
       "      <td>2021-05-14</td>\n",
       "      <td>alpha</td>\n",
       "      <td>0.000135</td>\n",
       "      <td>upper_0.975_conf</td>\n",
       "    </tr>\n",
       "    <tr>\n",
       "      <th>2141</th>\n",
       "      <td>2021-05-17</td>\n",
       "      <td>alpha</td>\n",
       "      <td>0.000108</td>\n",
       "      <td>upper_0.975_conf</td>\n",
       "    </tr>\n",
       "    <tr>\n",
       "      <th>2142</th>\n",
       "      <td>2021-05-18</td>\n",
       "      <td>alpha</td>\n",
       "      <td>0.000101</td>\n",
       "      <td>upper_0.975_conf</td>\n",
       "    </tr>\n",
       "    <tr>\n",
       "      <th>2143</th>\n",
       "      <td>2021-05-19</td>\n",
       "      <td>alpha</td>\n",
       "      <td>0.000130</td>\n",
       "      <td>upper_0.975_conf</td>\n",
       "    </tr>\n",
       "  </tbody>\n",
       "</table>\n",
       "<p>2144 rows × 4 columns</p>\n",
       "</div>"
      ],
      "text/plain": [
       "           Date parameter     value          variable\n",
       "0    2017-02-15     alpha -0.000298  lower_0.025_conf\n",
       "1    2017-02-16     alpha -0.000298  lower_0.025_conf\n",
       "2    2017-02-17     alpha -0.000355  lower_0.025_conf\n",
       "3    2017-02-21     alpha -0.000365  lower_0.025_conf\n",
       "4    2017-02-22     alpha -0.000340  lower_0.025_conf\n",
       "...         ...       ...       ...               ...\n",
       "2139 2021-05-13     alpha  0.000188  upper_0.975_conf\n",
       "2140 2021-05-14     alpha  0.000135  upper_0.975_conf\n",
       "2141 2021-05-17     alpha  0.000108  upper_0.975_conf\n",
       "2142 2021-05-18     alpha  0.000101  upper_0.975_conf\n",
       "2143 2021-05-19     alpha  0.000130  upper_0.975_conf\n",
       "\n",
       "[2144 rows x 4 columns]"
      ]
     },
     "metadata": {},
     "output_type": "display_data"
    },
    {
     "data": {
      "text/plain": [
       "0       lower_0.025_conf\n",
       "1072    upper_0.975_conf\n",
       "Name: variable, dtype: object"
      ]
     },
     "metadata": {},
     "output_type": "display_data"
    },
    {
     "name": "stdout",
     "output_type": "stream",
     "text": [
      "[INFO] Successfully Completed Rolling OLS Plot with Confidence Interval Test\n"
     ]
    },
    {
     "data": {
      "image/png": "[encoded data removed]",
      "text/plain": [
       "<Figure size 1728x1152 with 12 Axes>"
      ]
     },
     "metadata": {
      "needs_background": "light"
     },
     "output_type": "display_data"
    }
   ],
   "source": [
    "try_fail(ls_pair.plot_single_rolling_ols(window = 30), \"Rolling OLS Plot with Confidence Interval\")\n",
    "#try_fail(ls_pair.plot_single_rolling_ols(window = 30, fill = False), \"Rolling OLS Plot with Confidence Interval\")"
   ]
  },
  {
   "cell_type": "code",
   "execution_count": 11,
   "id": "e8fe4580-25d7-40ba-b569-46076a900c21",
   "metadata": {},
   "outputs": [
    {
     "data": {
      "text/plain": [
       "'\\ntry_fail(ls_pair.plot_single_rolling_ols_comparison(window = 30), \"Rolling OLS Plot comparison without cofidence\")\\ntry_fail(ls_pair.plot_single_rolling_ols_comparison(window = 30, conf_int = 0.05), \"Rolling OLS Plot comparison with Confidence Interval\")\\n'"
      ]
     },
     "execution_count": 11,
     "metadata": {},
     "output_type": "execute_result"
    }
   ],
   "source": [
    "'''\n",
    "try_fail(ls_pair.plot_single_rolling_ols_comparison(window = 30), \"Rolling OLS Plot comparison without cofidence\")\n",
    "try_fail(ls_pair.plot_single_rolling_ols_comparison(window = 30, conf_int = 0.05), \"Rolling OLS Plot comparison with Confidence Interval\")\n",
    "'''"
   ]
  },
  {
   "cell_type": "code",
   "execution_count": 12,
   "id": "321eb82f-4550-49f3-b010-e1e1dd94d552",
   "metadata": {},
   "outputs": [],
   "source": [
    "#try_fail(ls_pair.plot_single_rolling_ols_parameter_comparison(ols_window = 30, corr_window = 30), \"Rolling OLS Parameter Comparison\")"
   ]
  },
  {
   "cell_type": "code",
   "execution_count": 13,
   "id": "239e97ac-a3e4-408d-9c5e-28fb8847f690",
   "metadata": {},
   "outputs": [],
   "source": [
    "#try_fail(ls_pair.plot_single_rolling_ols_hist(ols_window = 30), \"Rolling OLS Plot Histogram\")"
   ]
  },
  {
   "cell_type": "code",
   "execution_count": 14,
   "id": "64f5fb71-3de3-4138-bcb6-2f5689f7b750",
   "metadata": {},
   "outputs": [],
   "source": [
    "#try_fail(ls_pair.plot_single_rolling_ols_contour(ols_window = 30), \"Rolling OLS Plot Histogram\")"
   ]
  }
 ],
 "metadata": {
  "kernelspec": {
   "display_name": "Python 3 (ipykernel)",
   "language": "python",
   "name": "python3"
  },
  "language_info": {
   "codemirror_mode": {
    "name": "ipython",
    "version": 3
   },
   "file_extension": ".py",
   "mimetype": "text/x-python",
   "name": "python",
   "nbconvert_exporter": "python",
   "pygments_lexer": "ipython3",
   "version": "3.8.5"
  }
 },
 "nbformat": 4,
 "nbformat_minor": 5
}
